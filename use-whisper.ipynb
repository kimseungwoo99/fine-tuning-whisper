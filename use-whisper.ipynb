{
 "cells": [
  {
   "cell_type": "code",
   "execution_count": null,
   "id": "d6fab494",
   "metadata": {},
   "outputs": [],
   "source": [
    "pip install torch torchvision torchaudio --index-url https://download.pytorch.org/whl/cu118"
   ]
  },
  {
   "cell_type": "code",
   "execution_count": null,
   "id": "2b58462b",
   "metadata": {},
   "outputs": [],
   "source": [
    "from transformers import pipeline\n",
    "import gradio as gr\n",
    "\n",
    "fine_model = \"aoome123/repo_name\"  # 수정할 모델의 이름 또는 경로로 변경해주세요\n",
    "\n",
    "pipe = pipeline(model=fine_model)\n",
    "\n",
    "def transcribe(audio):\n",
    "    text = pipe(audio)[\"text\"]\n",
    "    return text\n",
    "\n",
    "iface = gr.Interface(\n",
    "    fn=transcribe, \n",
    "    inputs=gr.inputs.Audio(source=\"upload\", type=\"filepath\"),  # type을 'numpy' 또는 'filepath'로 변경\n",
    "    outputs=\"text\",\n",
    "    title=\"어린이 예능 Whisper\",\n",
    "    description=\"어린이 예능 데이터를 통해 fine-tuning한 Whisper 모델.\",\n",
    ")\n",
    "\n",
    "iface.launch(share=True, debug=True)\n"
   ]
  }
 ],
 "metadata": {
  "kernelspec": {
   "display_name": "Python 3 (ipykernel)",
   "language": "python",
   "name": "python3"
  },
  "language_info": {
   "codemirror_mode": {
    "name": "ipython",
    "version": 3
   },
   "file_extension": ".py",
   "mimetype": "text/x-python",
   "name": "python",
   "nbconvert_exporter": "python",
   "pygments_lexer": "ipython3",
   "version": "3.9.15"
  }
 },
 "nbformat": 4,
 "nbformat_minor": 5
}
