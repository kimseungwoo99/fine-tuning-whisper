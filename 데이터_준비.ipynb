{
  "nbformat": 4,
  "nbformat_minor": 0,
  "metadata": {
    "colab": {
      "provenance": [],
      "authorship_tag": "ABX9TyNGgQStHkXAGwdaFME0O4O5",
      "include_colab_link": true
    },
    "kernelspec": {
      "name": "python3",
      "display_name": "Python 3"
    },
    "language_info": {
      "name": "python"
    }
  },
  "cells": [
    {
      "cell_type": "markdown",
      "metadata": {
        "id": "view-in-github",
        "colab_type": "text"
      },
      "source": [
        "<a href=\"https://colab.research.google.com/github/kimseungwoo99/fine-tuning-whisper/blob/main/%EB%8D%B0%EC%9D%B4%ED%84%B0_%EC%A4%80%EB%B9%84.ipynb\" target=\"_parent\"><img src=\"https://colab.research.google.com/assets/colab-badge.svg\" alt=\"Open In Colab\"/></a>"
      ]
    },
    {
      "cell_type": "code",
      "execution_count": null,
      "metadata": {
        "id": "H7z_-3CwIOPN"
      },
      "outputs": [],
      "source": [
        "import os\n",
        "import json\n",
        "import pandas as pd\n",
        "from pydub import AudioSegment\n",
        "\n",
        "# 시간을 밀리세컨드 단위로 변환하는 함수\n",
        "def time_to_milliseconds(time_str):\n",
        "    h, m, s = time_str.split(':')\n",
        "    return int(h) * 3600000 + int(m) * 60000 + int(float(s) * 1000)\n",
        "\n",
        "# 오디오 파일 분할 함수\n",
        "def split_audio(audio_path, intervals):\n",
        "    # 오디오 파일 로드\n",
        "    audio = AudioSegment.from_file(audio_path)\n",
        "\n",
        "    # 원본 오디오 파일의 이름에서 확장자를 제거\n",
        "    base_name = os.path.splitext(os.path.basename(audio_path))[0]\n",
        "\n",
        "    for i, (start_time, end_time) in enumerate(intervals):\n",
        "        # 오디오 파일 분할\n",
        "        extract = audio[start_time:end_time]\n",
        "\n",
        "        # 분할한 오디오 파일 저장 (원본 오디오 파일의 이름을 포함)\n",
        "        extract.export(f\"/content/drive/MyDrive/final_dataset/{base_name}_{i}.mp3\", format=\"mp3\")\n",
        "\n",
        "# 'wave1'과 '예능json' 디렉토리에 있는 파일들의 리스트를 얻기\n",
        "wave_files = [f for f in os.listdir('/content/drive/MyDrive/wave1') if f.endswith('.wav')]\n",
        "json_files = [f for f in os.listdir('/content/drive/MyDrive/예능json') if f.endswith('.json')]\n",
        "\n",
        "# 전체 결과를 저장할 데이터프레임 생성\n",
        "df_total = pd.DataFrame(columns=['sentence', 'audio_file', 'interval'])\n",
        "\n",
        "# .wav 파일과 .json 파일의 이름을 비교\n",
        "for wave_file in wave_files:\n",
        "    # .wav 파일의 이름에서 확장자를 제거\n",
        "    wave_file_name = os.path.splitext(wave_file)[0]\n",
        "\n",
        "    # 같은 이름의 .json 파일이 있는지 확인\n",
        "    if wave_file_name + '.json' in json_files:\n",
        "        # JSON 파일 열기\n",
        "        with open(f'/content/drive/MyDrive/예능json/{wave_file_name}.json', 'r', encoding='utf-8') as f:\n",
        "            data = json.load(f)\n",
        "\n",
        "        # 데이터프레임을 생성할 리스트 초기화\n",
        "        df_data = []\n",
        "\n",
        "        # 각 문장에 대한 정보를 반복해서 처리\n",
        "        for i, sentence in enumerate(data['media_info']['sentence_list']):\n",
        "            start = time_to_milliseconds(sentence['start'])\n",
        "            end = time_to_milliseconds(sentence['end'])\n",
        "            df_data.append([sentence['sentence'], f\"/content/drive/MyDrive/final_dataset/{wave_file_name}_{i}.mp3\", (start, end)])\n",
        "\n",
        "        # 리스트를 데이터프레임으로 변환\n",
        "        df = pd.DataFrame(df_data, columns=['sentence', 'audio_file', 'interval'])\n",
        "\n",
        "        # 오디오 파일 분할\n",
        "        split_audio(f\"/content/drive/MyDrive/wave1/{wave_file}\", df['interval'].values)\n",
        "\n",
        "        # 결과를 전체 데이터프레임에 추가\n",
        "        df_total = pd.concat([df_total, df])\n",
        "\n",
        "# 전체 결과 출력\n",
        "print(df_total)\n"
      ]
    }
  ]
}